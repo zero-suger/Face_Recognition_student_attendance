{
 "cells": [
  {
   "cell_type": "code",
   "execution_count": 1,
   "id": "6534d678",
   "metadata": {},
   "outputs": [
    {
     "name": "stdout",
     "output_type": "stream",
     "text": [
      "Requirement already satisfied: cmake in /Users/macbook/anaconda3/lib/python3.10/site-packages (3.26.3)\n",
      "Note: you may need to restart the kernel to use updated packages.\n"
     ]
    }
   ],
   "source": [
    "# Urinov AZIZBEK 2023\n",
    "\n",
    "pip install cmake\n"
   ]
  },
  {
   "cell_type": "code",
   "execution_count": 2,
   "id": "410fd032",
   "metadata": {},
   "outputs": [
    {
     "name": "stdout",
     "output_type": "stream",
     "text": [
      "Requirement already satisfied: opencv-python in /Users/macbook/anaconda3/lib/python3.10/site-packages (4.7.0.72)\n",
      "Requirement already satisfied: numpy>=1.21.2 in /Users/macbook/anaconda3/lib/python3.10/site-packages (from opencv-python) (1.23.5)\n",
      "Note: you may need to restart the kernel to use updated packages.\n"
     ]
    }
   ],
   "source": [
    "pip install opencv-python"
   ]
  },
  {
   "cell_type": "code",
   "execution_count": 3,
   "id": "f86aa886",
   "metadata": {},
   "outputs": [
    {
     "name": "stdout",
     "output_type": "stream",
     "text": [
      "Requirement already satisfied: face_recognition in /Users/macbook/anaconda3/lib/python3.10/site-packages (1.3.0)\n",
      "Requirement already satisfied: face-recognition-models>=0.3.0 in /Users/macbook/anaconda3/lib/python3.10/site-packages (from face_recognition) (0.3.0)\n",
      "Requirement already satisfied: dlib>=19.7 in /Users/macbook/anaconda3/lib/python3.10/site-packages (from face_recognition) (19.24.2)\n",
      "Requirement already satisfied: numpy in /Users/macbook/anaconda3/lib/python3.10/site-packages (from face_recognition) (1.23.5)\n",
      "Requirement already satisfied: Pillow in /Users/macbook/anaconda3/lib/python3.10/site-packages (from face_recognition) (9.4.0)\n",
      "Requirement already satisfied: Click>=6.0 in /Users/macbook/anaconda3/lib/python3.10/site-packages (from face_recognition) (8.0.4)\n",
      "Note: you may need to restart the kernel to use updated packages.\n"
     ]
    }
   ],
   "source": [
    "pip install face_recognition"
   ]
  },
  {
   "cell_type": "code",
   "execution_count": 4,
   "id": "6bed5e0f",
   "metadata": {},
   "outputs": [
    {
     "name": "stdout",
     "output_type": "stream",
     "text": [
      "Requirement already satisfied: pygame in /Users/macbook/anaconda3/lib/python3.10/site-packages (2.4.0)\n",
      "Note: you may need to restart the kernel to use updated packages.\n"
     ]
    }
   ],
   "source": [
    "pip install pygame"
   ]
  },
  {
   "cell_type": "code",
   "execution_count": 5,
   "id": "28bdc2bc",
   "metadata": {},
   "outputs": [
    {
     "name": "stdout",
     "output_type": "stream",
     "text": [
      "pygame 2.4.0 (SDL 2.26.4, Python 3.10.9)\n",
      "Hello from the pygame community. https://www.pygame.org/contribute.html\n"
     ]
    }
   ],
   "source": [
    "import cv2\n",
    "import face_recognition\n",
    "from PIL import Image,ImageFont \n",
    "import sys # later to try else condition\n",
    "import pandas as pd # work with the tables\n",
    "import datetime # to write the time which the user logged on \n",
    "import pygame # to write the time\n",
    "\n",
    "\n"
   ]
  },
  {
   "cell_type": "code",
   "execution_count": 6,
   "id": "51fd0d8d",
   "metadata": {},
   "outputs": [],
   "source": [
    "# Module 1 Load Module\n",
    "\n",
    "employee_csv = pd.read_csv('/Users/macbook/Desktop/atttandance/Employee.csv')\n",
    "\n",
    "empno = employee_csv['Employee No'].tolist() # take all employee and make them list\n",
    "first_name = employee_csv['First Name'].tolist()\n",
    "last_name = employee_csv['Last Name'].tolist()\n",
    "photo_location = employee_csv['Photo Location'].tolist()\n",
    "audio_location = employee_csv['Audio Location'].tolist()\n",
    "\n",
    "n = len(empno)\n",
    "\n",
    "emp = []\n",
    "emp_encod = []\n",
    "audio = []\n",
    "\n",
    "for i in range(n):\n",
    "    emp.append(face_recognition.load_image_file(photo_location[i]))\n",
    "    emp_encod.append (face_recognition.face_encodings(emp[i])[0])\n",
    "\n",
    "    \n"
   ]
  },
  {
   "cell_type": "code",
   "execution_count": 7,
   "id": "fbdadf53",
   "metadata": {},
   "outputs": [],
   "source": [
    "# Module 2 Face Image Capturing\n",
    "\n",
    "camera_capture = cv2.VideoCapture(0)\n",
    "\n",
    "for face in range(10):\n",
    "    return_value, image = camera_capture.read()\n",
    "    cv2.imwrite('Employee' + str(face) + '.png', image)\n",
    "\n",
    "del(camera_capture)\n",
    "\n",
    "random_employee = face_recognition.load_image_file('Employee2.png')\n",
    "\n",
    "\n"
   ]
  },
  {
   "cell_type": "code",
   "execution_count": 8,
   "id": "417c4578",
   "metadata": {},
   "outputs": [
    {
     "name": "stdout",
     "output_type": "stream",
     "text": [
      "[True, False, False, False, False, False, False]\n"
     ]
    }
   ],
   "source": [
    "# Module 3 Face Recognition Module\n",
    "\n",
    "def identify_employee(photo):\n",
    "   \n",
    "    try: \n",
    "        \n",
    "        random_employee_encod = face_recognition.face_encodings(photo)[0]\n",
    "    \n",
    "    except IndexError as e:\n",
    "        \n",
    "        print(e)\n",
    "        sys.exit(1)\n",
    "        \n",
    "    found_face = face_recognition.compare_faces(emp_encod, random_employee_encod, tolerance = 0.5)\n",
    "    \n",
    "    print(found_face)\n",
    "    \n",
    "    index = -1\n",
    "    \n",
    "    # if emplyee found back it to the first index\n",
    "    \n",
    "    for i in range(n):\n",
    "        \n",
    "        if found_face[i]:\n",
    "            \n",
    "            index = i\n",
    "    \n",
    "    return(index)\n",
    "\n",
    "\n",
    "emp_index = identify_employee(random_employee)\n"
   ]
  },
  {
   "cell_type": "code",
   "execution_count": 9,
   "id": "8327b209",
   "metadata": {},
   "outputs": [
    {
     "name": "stdout",
     "output_type": "stream",
     "text": [
      "\n",
      "1 Azizbek Urinov 2023-06-08 14:51:56.730974\n"
     ]
    }
   ],
   "source": [
    "# Module 4 writing the logged employee to the system\n",
    "\n",
    "if (emp_index != -1):\n",
    "    \n",
    "    x = str(datetime.datetime.now())\n",
    "    eno = str(empno[emp_index])\n",
    "    f = first_name[emp_index]\n",
    "    l = last_name[emp_index]\n",
    "    ar = '\\n' + eno + ' ' + f + ' ' + l + ' ' + x\n",
    "    \n",
    "    f = open('/Users/macbook/Desktop/atttandance/attandance.txt', 'a')\n",
    "    f.write(ar)\n",
    "    f.close()\n",
    "    print(ar)\n",
    "    \n",
    "\n",
    "\n",
    "    "
   ]
  },
  {
   "cell_type": "code",
   "execution_count": 10,
   "id": "65e48709",
   "metadata": {},
   "outputs": [],
   "source": [
    "# Module 5 Display the Result\n",
    "from PIL import Image, ImageDraw\n",
    "\n",
    "PIL_random_employee = Image.fromarray(random_employee)\n",
    "draw = ImageDraw.Draw(PIL_random_employee)\n",
    "\n",
    "fnt = ImageFont.truetype(\"/Users/macbook/Desktop/atttandance/freemono/FreeMono.ttf\", 40)\n",
    "\n",
    "if emp_index == -1:\n",
    "    \n",
    "    name = 'Face is NOT RECOGNIZED'\n",
    "    \n",
    "else:\n",
    "    \n",
    "    name = first_name[emp_index] + ' ' + last_name[emp_index]\n",
    "\n",
    "x = 100\n",
    "y = random_employee.shape[0] - 100\n",
    "\n",
    "draw.text((x, y), name, font = fnt, fill = (255, 0, 0))\n",
    "\n",
    "PIL_random_employee.show()\n",
    "\n"
   ]
  },
  {
   "cell_type": "code",
   "execution_count": 11,
   "id": "29cd9e23",
   "metadata": {},
   "outputs": [],
   "source": [
    "# Module 6 Using the audio for better UI\n",
    "\n",
    "audioloc = audio_location[emp_index]\n",
    "\n",
    "pygame.mixer.init()\n",
    "\n",
    "if emp_index == -1:\n",
    "    \n",
    "    pygame.mixer.music.load('/Users/macbook/Desktop/atttandance/EmployeeAudio/failure.mp3')\n",
    "    pygame.mixer.music.play()\n",
    "    \n",
    "else : \n",
    "    pygame.mixer.music.load('/Users/macbook/Desktop/atttandance/EmployeeAudio/success.mp3')\n",
    "    pygame.mixer.music.play()\n",
    "  \n",
    "    "
   ]
  },
  {
   "cell_type": "code",
   "execution_count": null,
   "id": "c6e9fcde",
   "metadata": {},
   "outputs": [],
   "source": []
  },
  {
   "cell_type": "code",
   "execution_count": null,
   "id": "ddf00be1",
   "metadata": {},
   "outputs": [],
   "source": []
  }
 ],
 "metadata": {
  "kernelspec": {
   "display_name": "Python 3 (ipykernel)",
   "language": "python",
   "name": "python3"
  },
  "language_info": {
   "codemirror_mode": {
    "name": "ipython",
    "version": 3
   },
   "file_extension": ".py",
   "mimetype": "text/x-python",
   "name": "python",
   "nbconvert_exporter": "python",
   "pygments_lexer": "ipython3",
   "version": "3.10.9"
  }
 },
 "nbformat": 4,
 "nbformat_minor": 5
}
